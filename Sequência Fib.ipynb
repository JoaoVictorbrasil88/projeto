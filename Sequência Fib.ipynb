{
  "nbformat": 4,
  "nbformat_minor": 0,
  "metadata": {
    "colab": {
      "provenance": [],
      "authorship_tag": "ABX9TyM1HUwQWJtKPO0Ha/Sbc07P",
      "include_colab_link": true
    },
    "kernelspec": {
      "name": "python3",
      "display_name": "Python 3"
    },
    "language_info": {
      "name": "python"
    }
  },
  "cells": [
    {
      "cell_type": "markdown",
      "metadata": {
        "id": "view-in-github",
        "colab_type": "text"
      },
      "source": [
        "<a href=\"https://colab.research.google.com/github/JoaoVictorbrasil88/projeto-loja-de-doces/blob/main/Sequ%C3%AAncia%20Fib.ipynb\" target=\"_parent\"><img src=\"https://colab.research.google.com/assets/colab-badge.svg\" alt=\"Open In Colab\"/></a>"
      ]
    },
    {
      "cell_type": "code",
      "execution_count": 1,
      "metadata": {
        "colab": {
          "base_uri": "https://localhost:8080/"
        },
        "id": "JtcMimwez0Gw",
        "outputId": "7ee2cb9f-a66d-467b-fa2c-b2e8e852b6b5"
      },
      "outputs": [
        {
          "output_type": "stream",
          "name": "stdout",
          "text": [
            "Digite um número: 5\n",
            "O número 5 pertence à sequência de Fibonacci.\n"
          ]
        }
      ],
      "source": [
        "def fibonacci(n):\n",
        "    fib_sequence = [0, 1]\n",
        "    while fib_sequence[-1] < n:\n",
        "        fib_sequence.append(fib_sequence[-1] + fib_sequence[-2])\n",
        "    return fib_sequence\n",
        "\n",
        "def is_in_sequence(n, sequence):\n",
        "    return n in sequence\n",
        "\n",
        "n = int(input(\"Digite um número: \"))\n",
        "sequence = fibonacci(n)\n",
        "\n",
        "if is_in_sequence(n, sequence):\n",
        "    print(f\"O número {n} pertence à sequência de Fibonacci.\")\n",
        "else:\n",
        "    print(f\"O número {n} não pertence à sequência de Fibonacci.\")\n"
      ]
    }
  ]
}